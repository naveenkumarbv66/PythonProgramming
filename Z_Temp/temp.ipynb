{
 "cells": [
  {
   "cell_type": "markdown",
   "id": "40a7ae60",
   "metadata": {},
   "source": [
    "# range(1,10,2) VS list[::2]"
   ]
  },
  {
   "cell_type": "code",
   "execution_count": 16,
   "id": "b34f1499",
   "metadata": {},
   "outputs": [
    {
     "name": "stdout",
     "output_type": "stream",
     "text": [
      "==> range output: \n",
      "1 2 3 4 5 6 7 8 9 \n",
      "==> List array: [1, 2, 3, 4, 5, 6, 7, 8, 9]\n"
     ]
    }
   ],
   "source": [
    "print('==> range output: ')\n",
    "for i in range(1,10,1):\n",
    "    print(i, end=' ')\n",
    "\n",
    "list_value=[1,2,3,4,5,6,7,8,9]\n",
    "print(f'\\n==> List array: {list_value}')"
   ]
  },
  {
   "cell_type": "code",
   "execution_count": 18,
   "id": "df4a5367",
   "metadata": {},
   "outputs": [
    {
     "name": "stdout",
     "output_type": "stream",
     "text": [
      "==> range output:  [1, 2, 3, 4, 5, 6, 7, 8, 9]\n",
      "\n",
      "==> List array: [1, 2, 3, 4, 5, 6, 7, 8, 9]\n"
     ]
    }
   ],
   "source": [
    "print('==> range output: ', [i for i in range(1,10,1)])\n",
    "\n",
    "list_value=[1,2,3,4,5,6,7,8,9]\n",
    "print(f'\\n==> List array: {list_value}')"
   ]
  },
  {
   "cell_type": "code",
   "execution_count": 27,
   "id": "05c7a948",
   "metadata": {},
   "outputs": [
    {
     "name": "stdout",
     "output_type": "stream",
     "text": [
      "==> range output:  [10, 9, 8, 7, 6, 5, 4, 3, 2]\n",
      "\n",
      "==> List array: [10, 9, 8, 7, 6, 5, 4, 3, 2]\n"
     ]
    }
   ],
   "source": [
    "print('==> range output: ', [i for i in range(10,1,-1)])\n",
    "\n",
    "list_value=[2,3,4,5,6,7,8,9,10]\n",
    "print(f'\\n==> List array: {list_value[::-1]}')"
   ]
  },
  {
   "cell_type": "code",
   "execution_count": 28,
   "id": "13b27b3e",
   "metadata": {},
   "outputs": [
    {
     "name": "stdout",
     "output_type": "stream",
     "text": [
      "==> range output:  [10, 8, 6, 4, 2]\n",
      "\n",
      "==> List array: [10, 8, 6, 4, 2]\n"
     ]
    }
   ],
   "source": [
    "print('==> range output: ', [i for i in range(10,1,-2)])\n",
    "\n",
    "list_value=[2,3,4,5,6,7,8,9,10]\n",
    "print(f'\\n==> List array: {list_value[::-2]}')"
   ]
  },
  {
   "cell_type": "code",
   "execution_count": 29,
   "id": "0ca19c42",
   "metadata": {},
   "outputs": [
    {
     "name": "stdout",
     "output_type": "stream",
     "text": [
      "==> range output:  [10, 7, 4]\n",
      "\n",
      "==> List array: [10, 7, 4]\n"
     ]
    }
   ],
   "source": [
    "print('==> range output: ', [i for i in range(10,1,-3)])\n",
    "\n",
    "list_value=[2,3,4,5,6,7,8,9,10]\n",
    "print(f'\\n==> List array: {list_value[::-3]}')"
   ]
  },
  {
   "cell_type": "code",
   "execution_count": 30,
   "id": "6cf36d98",
   "metadata": {},
   "outputs": [
    {
     "name": "stdout",
     "output_type": "stream",
     "text": [
      "==> range output:  []\n",
      "\n",
      "==> List array: [2, 3, 4, 5, 6, 7, 8, 9, 10]\n"
     ]
    }
   ],
   "source": [
    "print('==> range output: ', [i for i in range(10,1,1)])\n",
    "\n",
    "list_value=[2,3,4,5,6,7,8,9,10]\n",
    "print(f'\\n==> List array: {list_value[::1]}')"
   ]
  },
  {
   "cell_type": "code",
   "execution_count": 50,
   "id": "a38b9690",
   "metadata": {},
   "outputs": [
    {
     "name": "stdout",
     "output_type": "stream",
     "text": [
      "\n",
      "==> List array ist_value[::1]: [2, 3, 4, 5, 6, 7, 8, 9]\n",
      "\n",
      "==> List array ist_value[::2]: [2, 4, 6, 8]\n",
      "\n",
      "==> List array ist_value[::-1]: [9, 8, 7, 6, 5, 4, 3, 2]\n",
      "\n",
      "==> List array ist_value[::-2]: [9, 7, 5, 3]\n",
      "\n",
      "==> List array ist_value[1::]: [3, 4, 5, 6, 7, 8, 9]\n",
      "\n",
      "==> List array ist_value[2::]: [4, 5, 6, 7, 8, 9]\n",
      "\n",
      "==> List array ist_value[-1::]: [9]\n",
      "\n",
      "==> List array ist_value[-2::]: [8, 9]\n",
      "\n",
      "==> List array ist_value[::]: [2, 3, 4, 5, 6, 7, 8, 9]\n"
     ]
    },
    {
     "data": {
      "text/plain": [
       "\" slice step cannot be zero \\nlist_value=[2,3,4,5,6,7,8,9,10]\\nprint(f'\\n==> List array ist_value[::0]: {list_value[::0]}')\\n\\nlist_value=[2,3,4,5,6,7,8,9,10]\\nprint(f'\\n==> List array ist_value[0::]: {list_value[0::]}')\\n\""
      ]
     },
     "execution_count": 50,
     "metadata": {},
     "output_type": "execute_result"
    }
   ],
   "source": [
    "list_value=[2,3,4,5,6,7,8,9]\n",
    "print(f'\\n==> List array ist_value[::1]: {list_value[::1]}')\n",
    "print(f'\\n==> List array ist_value[::2]: {list_value[::2]}')\n",
    "\n",
    "print(f'\\n==> List array ist_value[::-1]: {list_value[::-1]}')\n",
    "print(f'\\n==> List array ist_value[::-2]: {list_value[::-2]}')\n",
    "\n",
    "print(f'\\n==> List array ist_value[1::]: {list_value[1::]}')\n",
    "print(f'\\n==> List array ist_value[2::]: {list_value[2::]}')\n",
    "\n",
    "print(f'\\n==> List array ist_value[-1::]: {list_value[-1::]}')\n",
    "print(f'\\n==> List array ist_value[-2::]: {list_value[-2::]}')\n",
    "\n",
    "\n",
    "print(f'\\n==> List array ist_value[::]: {list_value[::]}')\n",
    "\n",
    "''' slice step cannot be zero \n",
    "list_value=[2,3,4,5,6,7,8,9,10]\n",
    "print(f'\\n==> List array ist_value[::0]: {list_value[::0]}')\n",
    "\n",
    "list_value=[2,3,4,5,6,7,8,9,10]\n",
    "print(f'\\n==> List array ist_value[0::]: {list_value[0::]}')\n",
    "'''\n",
    "\n"
   ]
  },
  {
   "cell_type": "code",
   "execution_count": null,
   "id": "80e2054b",
   "metadata": {},
   "outputs": [
    {
     "name": "stdout",
     "output_type": "stream",
     "text": [
      "\n",
      "==> List array ist_value[:1]: [2]\n",
      "\n",
      "==> List array ist_value[:2]: [2, 3]\n",
      "\n",
      "==> List array ist_value[:3]: [2, 3, 4]\n",
      "\n",
      "==> List array ist_value[:-1]: [2, 3, 4, 5, 6, 7, 8, 9]\n",
      "\n",
      "==> List array ist_value[:-2]: [2, 3, 4, 5, 6, 7, 8]\n",
      "\n",
      "==> List array ist_value[:-3]: [2, 3, 4, 5, 6, 7]\n"
     ]
    }
   ],
   "source": [
    "list_value=[2,3,4,5,6,7,8,9]\n",
    "print(f'\\n==> List array ist_value[:1]: {list_value[:1]}')\n",
    "\n",
    "\n",
    "print(f'\\n==> List array ist_value[:2]: {list_value[:2]}')\n",
    "\n",
    "\n",
    "print(f'\\n==> List array ist_value[:3]: {list_value[:3]}')\n",
    "\n",
    "\n",
    "print(f'\\n==> List array ist_value[:-1]: {list_value[:-1]}')\n",
    "\n",
    "print(f'\\n==> List array ist_value[:-2]: {list_value[:-2]}')\n",
    "\n",
    "\n",
    "print(f'\\n==> List array ist_value[:-3]: {list_value[:-3]}')"
   ]
  },
  {
   "cell_type": "code",
   "execution_count": 51,
   "id": "74928a19",
   "metadata": {},
   "outputs": [
    {
     "name": "stdout",
     "output_type": "stream",
     "text": [
      "\n",
      "==> List array ist_value[1:]: [3, 4, 5, 6, 7, 8, 9]\n",
      "\n",
      "==> List array ist_value[2:]: [4, 5, 6, 7, 8, 9]\n",
      "\n",
      "==> List array ist_value[3:]: [5, 6, 7, 8, 9]\n",
      "\n",
      "==> List array ist_value[-1:]: [9]\n",
      "\n",
      "==> List array ist_value[-2:]: [8, 9]\n",
      "\n",
      "==> List array ist_value[-3:]: [7, 8, 9]\n"
     ]
    }
   ],
   "source": [
    "list_value=[2,3,4,5,6,7,8,9]\n",
    "print(f'\\n==> List array ist_value[1:]: {list_value[1:]}')\n",
    "\n",
    "\n",
    "print(f'\\n==> List array ist_value[2:]: {list_value[2:]}')\n",
    "\n",
    "\n",
    "print(f'\\n==> List array ist_value[3:]: {list_value[3:]}')\n",
    "\n",
    "\n",
    "print(f'\\n==> List array ist_value[-1:]: {list_value[-1:]}')\n",
    "\n",
    "\n",
    "print(f'\\n==> List array ist_value[-2:]: {list_value[-2:]}')\n",
    "\n",
    "\n",
    "print(f'\\n==> List array ist_value[-3:]: {list_value[-3:]}')"
   ]
  },
  {
   "cell_type": "code",
   "execution_count": null,
   "id": "33ba66f5",
   "metadata": {},
   "outputs": [
    {
     "name": "stdout",
     "output_type": "stream",
     "text": [
      "\n",
      "==> List array ist_value[1:-1]: [3, 4, 5, 6, 7, 8, 9]\n",
      "\n",
      "==> List array ist_value[2:-2]: [4, 5, 6, 7, 8]\n",
      "\n",
      "==> List array ist_value[2:2]: []\n",
      "\n",
      "==> List array ist_value[::]: [2, 3, 4, 5, 6, 7, 8, 9, 10]\n"
     ]
    }
   ],
   "source": [
    "list_value=[2,3,4,5,6,7,8,9]\n",
    "print(f'\\n==> List array ist_value[1:-1]: {list_value[1:-1]}')\n",
    "\n",
    "\n",
    "print(f'\\n==> List array ist_value[2:-2]: {list_value[2:-2]}')\n",
    "\n",
    "\n",
    "print(f'\\n==> List array ist_value[2:2]: {list_value[2:2]}')\n"
   ]
  }
 ],
 "metadata": {
  "kernelspec": {
   "display_name": ".venv (3.11.6)",
   "language": "python",
   "name": "python3"
  },
  "language_info": {
   "codemirror_mode": {
    "name": "ipython",
    "version": 3
   },
   "file_extension": ".py",
   "mimetype": "text/x-python",
   "name": "python",
   "nbconvert_exporter": "python",
   "pygments_lexer": "ipython3",
   "version": "3.11.6"
  }
 },
 "nbformat": 4,
 "nbformat_minor": 5
}
